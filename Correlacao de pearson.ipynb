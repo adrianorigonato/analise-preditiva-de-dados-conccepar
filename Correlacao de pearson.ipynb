{
 "cells": [
  {
   "cell_type": "code",
   "execution_count": 1,
   "id": "b69c2a34-c8b9-4934-b8d6-1d3a532aa505",
   "metadata": {},
   "outputs": [
    {
     "name": "stdout",
     "output_type": "stream",
     "text": [
      "Correlação de Pearson: 0.99\n",
      "Valor-p: 0.0010\n"
     ]
    }
   ],
   "source": [
    "import pandas as pd\n",
    "from scipy.stats import pearsonr\n",
    "\n",
    "# Dados fictícios\n",
    "df = pd.DataFrame({\n",
    "    'horas_estudo': [1, 2, 3, 4, 5],\n",
    "    'nota_prova': [50, 55, 65, 70, 75]\n",
    "})\n",
    "\n",
    "# Correlação de Pearson\n",
    "correlacao, p_valor = pearsonr(df['horas_estudo'], df['nota_prova'])\n",
    "\n",
    "print(f\"Correlação de Pearson: {correlacao:.2f}\")\n",
    "print(f\"Valor-p: {p_valor:.4f}\")\n"
   ]
  },
  {
   "cell_type": "code",
   "execution_count": null,
   "id": "5b3afd79-6345-4ee0-82e7-f55092d27ad9",
   "metadata": {},
   "outputs": [],
   "source": []
  }
 ],
 "metadata": {
  "kernelspec": {
   "display_name": "Python 3 (ipykernel)",
   "language": "python",
   "name": "python3"
  },
  "language_info": {
   "codemirror_mode": {
    "name": "ipython",
    "version": 3
   },
   "file_extension": ".py",
   "mimetype": "text/x-python",
   "name": "python",
   "nbconvert_exporter": "python",
   "pygments_lexer": "ipython3",
   "version": "3.12.4"
  }
 },
 "nbformat": 4,
 "nbformat_minor": 5
}
